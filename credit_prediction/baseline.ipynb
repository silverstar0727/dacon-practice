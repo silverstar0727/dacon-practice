{
  "nbformat": 4,
  "nbformat_minor": 0,
  "metadata": {
    "colab": {
      "name": "Dacon_baseline.ipynb",
      "provenance": [],
      "collapsed_sections": [],
      "machine_shape": "hm",
      "authorship_tag": "ABX9TyOBzYGSD6LriItDkZMRfIuB",
      "include_colab_link": true
    },
    "kernelspec": {
      "name": "python3",
      "display_name": "Python 3"
    },
    "language_info": {
      "name": "python"
    }
  },
  "cells": [
    {
      "cell_type": "markdown",
      "metadata": {
        "id": "view-in-github",
        "colab_type": "text"
      },
      "source": [
        "<a href=\"https://colab.research.google.com/github/silverstar0727/dacon-practice/blob/main/credit_prediction/baseline.ipynb\" target=\"_parent\"><img src=\"https://colab.research.google.com/assets/colab-badge.svg\" alt=\"Open In Colab\"/></a>"
      ]
    },
    {
      "cell_type": "code",
      "metadata": {
        "colab": {
          "base_uri": "https://localhost:8080/"
        },
        "id": "5x8w-QqpTcpI",
        "outputId": "32910480-721e-438d-9e67-b56cbe4a7606"
      },
      "source": [
        "from google.colab import drive\n",
        "drive.mount('/content/drive')"
      ],
      "execution_count": 3,
      "outputs": [
        {
          "output_type": "stream",
          "text": [
            "Mounted at /content/drive\n"
          ],
          "name": "stdout"
        }
      ]
    },
    {
      "cell_type": "code",
      "metadata": {
        "id": "742om2yrTdwM"
      },
      "source": [
        "import os\n",
        "\n",
        "DATA_ROOT = '/content/drive/MyDrive/ml/dacon-신용카드/data'\n",
        "TRAIN = os.path.join(DATA_ROOT, 'train.csv')\n",
        "TEST = os.path.join(DATA_ROOT, 'test.csv')\n",
        "SUBMISSION = os.path.join(DATA_ROOT, 'sample_submission.csv')"
      ],
      "execution_count": 18,
      "outputs": []
    },
    {
      "cell_type": "code",
      "metadata": {
        "id": "wO0hBGq8UDj3"
      },
      "source": [
        "import pandas as pd\n",
        "\n",
        "train = pd.read_csv(TRAIN)\n",
        "test = pd.read_csv(TEST)"
      ],
      "execution_count": 19,
      "outputs": []
    },
    {
      "cell_type": "code",
      "metadata": {
        "id": "i0ENoQOQZv6k"
      },
      "source": [
        "# 애매한 변수 제거\n",
        "train = train.drop(['occyp_type', 'work_phone', 'phone', 'email', 'child_num'], axis = 1)\n",
        "test = test.drop(['occyp_type', 'work_phone', 'phone', 'email', 'child_num'], axis = 1)\n",
        "\n",
        "# 변수 지정\n",
        "dummy_var = ['gender', 'car', 'reality', 'income_type', 'edu_type', 'family_type', 'house_type']\n",
        "num_cols = ['income_total',\t'DAYS_BIRTH',\t'DAYS_EMPLOYED', \n",
        "            'FLAG_MOBIL', 'family_size',\t'begin_month']"
      ],
      "execution_count": 20,
      "outputs": []
    },
    {
      "cell_type": "code",
      "metadata": {
        "id": "roSm9jX1cjaM"
      },
      "source": [
        "# 수치형 변수 표준화\n",
        "from sklearn.preprocessing import StandardScaler\n",
        "\n",
        "temp_list = dummy_var + ['credit', 'index']\n",
        "train_num_cols = train.drop(temp_list, axis = 1)\n",
        "scaler = StandardScaler()\n",
        "scaler.fit(train_num_cols)\n",
        "train_scaled = scaler.transform(train_num_cols)\n",
        "train_scaled_df = pd.DataFrame(train_scaled)\n",
        "\n",
        "# 합치기\n",
        "train = train.drop(num_cols, axis = 1)\n",
        "train = pd.concat([train, train_scaled_df], axis = 1)\n",
        "\n",
        "# 범주형 변수 전처리\n",
        "train = pd.get_dummies(train, dummy_var)"
      ],
      "execution_count": 21,
      "outputs": []
    },
    {
      "cell_type": "code",
      "metadata": {
        "id": "jxWs-iMmiLT1"
      },
      "source": [
        "# 데이터 변환\n",
        "import numpy as np\n",
        "\n",
        "target = np.array(train['credit'])\n",
        "train = train.drop('credit', axis = 1)\n",
        "\n",
        "features = np.array(train)"
      ],
      "execution_count": 22,
      "outputs": []
    },
    {
      "cell_type": "code",
      "metadata": {
        "id": "C82Q1J2UgchP"
      },
      "source": [
        "# 데이터 분할\n",
        "from sklearn.model_selection import train_test_split\n",
        "\n",
        "X_train, X_test, y_train, y_test = train_test_split(features, target)"
      ],
      "execution_count": 23,
      "outputs": []
    },
    {
      "cell_type": "code",
      "metadata": {
        "colab": {
          "base_uri": "https://localhost:8080/"
        },
        "id": "I42IVe66mcff",
        "outputId": "2e4fa61b-e370-4ccc-b34a-03046dc4851b"
      },
      "source": [
        "# RandomForest\n",
        "from sklearn.ensemble import RandomForestClassifier\n",
        "from sklearn.metrics import accuracy_score, log_loss\n",
        "\n",
        "model = RandomForestClassifier(n_estimators=5, random_state=0)\n",
        "model.fit(X_train, y_train)\n",
        "\n",
        "pred = model.predict(X_test)\n",
        "acc = accuracy_score(y_test, pred)\n",
        "\n",
        "print(acc)"
      ],
      "execution_count": 24,
      "outputs": [
        {
          "output_type": "stream",
          "text": [
            "0.6498866213151927\n"
          ],
          "name": "stdout"
        }
      ]
    },
    {
      "cell_type": "code",
      "metadata": {
        "colab": {
          "base_uri": "https://localhost:8080/"
        },
        "id": "iSkCBfqRi9oO",
        "outputId": "2441e73b-776d-42bc-a5ea-afda07c75871"
      },
      "source": [
        "# SVM\n",
        "from sklearn.svm import SVC\n",
        "\n",
        "model = SVC()\n",
        "model.fit(X_train, y_train)\n",
        "\n",
        "pred = model.predict(X_test)\n",
        "acc = accuracy_score(y_test, pred)\n",
        "\n",
        "print(acc)"
      ],
      "execution_count": 25,
      "outputs": [
        {
          "output_type": "stream",
          "text": [
            "0.6504913076341647\n"
          ],
          "name": "stdout"
        }
      ]
    },
    {
      "cell_type": "code",
      "metadata": {
        "colab": {
          "base_uri": "https://localhost:8080/"
        },
        "id": "Dpp3QFBpnidc",
        "outputId": "f46bc433-b133-4b36-deee-1fa99cd22a38"
      },
      "source": [
        "# LGBM\n",
        "from lightgbm import LGBMClassifier\n",
        "\n",
        "model = LGBMClassifier()\n",
        "model.fit(X_train, y_train)\n",
        "\n",
        "pred = model.predict(X_test)\n",
        "acc = accuracy_score(y_test, pred)\n",
        "\n",
        "print(acc)"
      ],
      "execution_count": 27,
      "outputs": [
        {
          "output_type": "stream",
          "text": [
            "0.7034013605442176\n"
          ],
          "name": "stdout"
        }
      ]
    },
    {
      "cell_type": "code",
      "metadata": {
        "colab": {
          "base_uri": "https://localhost:8080/"
        },
        "id": "FEP1Lq7pw9te",
        "outputId": "349077e3-b373-476c-ce36-f1f602a20960"
      },
      "source": [
        "# xgb\n",
        "from xgboost import XGBClassifier\n",
        "\n",
        "model = XGBClassifier(n_estimator = 500, learning_rate = 0.1, max_depth = 4)\n",
        "model.fit(X_train, y_train)\n",
        "\n",
        "pred = model.predict(X_test)\n",
        "acc = accuracy_score(y_test, pred)\n",
        "\n",
        "print(acc)"
      ],
      "execution_count": 28,
      "outputs": [
        {
          "output_type": "stream",
          "text": [
            "0.6993197278911565\n"
          ],
          "name": "stdout"
        }
      ]
    },
    {
      "cell_type": "code",
      "metadata": {
        "id": "9q9Px8rtximZ"
      },
      "source": [
        ""
      ],
      "execution_count": null,
      "outputs": []
    }
  ]
}