{
  "nbformat": 4,
  "nbformat_minor": 0,
  "metadata": {
    "colab": {
      "name": "Dacon_EDA.ipynb",
      "provenance": [],
      "authorship_tag": "ABX9TyMQfqrI2R9XC/rlfH+0TkOO",
      "include_colab_link": true
    },
    "kernelspec": {
      "name": "python3",
      "display_name": "Python 3"
    },
    "language_info": {
      "name": "python"
    }
  },
  "cells": [
    {
      "cell_type": "markdown",
      "metadata": {
        "id": "view-in-github",
        "colab_type": "text"
      },
      "source": [
        "<a href=\"https://colab.research.google.com/github/silverstar0727/dacon-practice/blob/main/credit_prediction/EDA.ipynb\" target=\"_parent\"><img src=\"https://colab.research.google.com/assets/colab-badge.svg\" alt=\"Open In Colab\"/></a>"
      ]
    },
    {
      "cell_type": "code",
      "metadata": {
        "colab": {
          "base_uri": "https://localhost:8080/"
        },
        "id": "5x8w-QqpTcpI",
        "outputId": "8d259c5e-bdbf-4ae9-dc34-d1697bfd48b4"
      },
      "source": [
        "from google.colab import drive\n",
        "drive.mount('/content/drive')"
      ],
      "execution_count": 2,
      "outputs": [
        {
          "output_type": "stream",
          "text": [
            "Drive already mounted at /content/drive; to attempt to forcibly remount, call drive.mount(\"/content/drive\", force_remount=True).\n"
          ],
          "name": "stdout"
        }
      ]
    },
    {
      "cell_type": "code",
      "metadata": {
        "id": "jlZDO-PnXZ98"
      },
      "source": [
        "!pip install -q tensorflow-data-validation"
      ],
      "execution_count": null,
      "outputs": []
    },
    {
      "cell_type": "code",
      "metadata": {
        "id": "742om2yrTdwM"
      },
      "source": [
        "import os\n",
        "\n",
        "DATA_ROOT = '/content/drive/MyDrive/ml/dacon-신용카드/data'\n",
        "TRAIN = os.path.join(DATA_ROOT, 'train.csv')\n",
        "TEST = os.path.join(DATA_ROOT, 'test.csv')\n",
        "SUBMISSION = os.path.join(DATA_ROOT, 'sample_submission.csv')"
      ],
      "execution_count": 3,
      "outputs": []
    },
    {
      "cell_type": "code",
      "metadata": {
        "id": "wO0hBGq8UDj3"
      },
      "source": [
        "import pandas as pd\n",
        "\n",
        "train = pd.read_csv(TRAIN)\n",
        "test = pd.read_csv(TEST)"
      ],
      "execution_count": 4,
      "outputs": []
    },
    {
      "cell_type": "code",
      "metadata": {
        "colab": {
          "base_uri": "https://localhost:8080/",
          "height": 1000
        },
        "id": "a_z2GtjEXEKo",
        "outputId": "08fa9ce6-6acb-41ae-c0e3-bb0ab0ff2992"
      },
      "source": [
        "import tensorflow_data_validation as tfdv\n",
        "train_stats = tfdv.generate_statistics_from_csv(data_location= TRAIN)\n",
        "tfdv.visualize_statistics(train_stats)"
      ],
      "execution_count": 5,
      "outputs": [
        {
          "output_type": "stream",
          "text": [
            "WARNING:apache_beam.runners.interactive.interactive_environment:Dependencies required for Interactive Beam PCollection visualization are not available, please use: `pip install apache-beam[interactive]` to install necessary dependencies to enable all data visualization features.\n"
          ],
          "name": "stderr"
        },
        {
          "output_type": "display_data",
          "data": {
            "application/javascript": [
              "\n",
              "        if (typeof window.interactive_beam_jquery == 'undefined') {\n",
              "          var jqueryScript = document.createElement('script');\n",
              "          jqueryScript.src = 'https://code.jquery.com/jquery-3.4.1.slim.min.js';\n",
              "          jqueryScript.type = 'text/javascript';\n",
              "          jqueryScript.onload = function() {\n",
              "            var datatableScript = document.createElement('script');\n",
              "            datatableScript.src = 'https://cdn.datatables.net/1.10.20/js/jquery.dataTables.min.js';\n",
              "            datatableScript.type = 'text/javascript';\n",
              "            datatableScript.onload = function() {\n",
              "              window.interactive_beam_jquery = jQuery.noConflict(true);\n",
              "              window.interactive_beam_jquery(document).ready(function($){\n",
              "                \n",
              "              });\n",
              "            }\n",
              "            document.head.appendChild(datatableScript);\n",
              "          };\n",
              "          document.head.appendChild(jqueryScript);\n",
              "        } else {\n",
              "          window.interactive_beam_jquery(document).ready(function($){\n",
              "            \n",
              "          });\n",
              "        }"
            ]
          },
          "metadata": {
            "tags": []
          }
        },
        {
          "output_type": "stream",
          "text": [
            "WARNING:apache_beam.io.tfrecordio:Couldn't find python-snappy so the implementation of _TFRecordUtil._masked_crc32c is not as fast as it could be.\n"
          ],
          "name": "stderr"
        },
        {
          "output_type": "stream",
          "text": [
            "WARNING:tensorflow:From /usr/local/lib/python3.7/dist-packages/tensorflow_data_validation/utils/stats_util.py:247: tf_record_iterator (from tensorflow.python.lib.io.tf_record) is deprecated and will be removed in a future version.\n",
            "Instructions for updating:\n",
            "Use eager execution and: \n",
            "`tf.data.TFRecordDataset(path)`\n"
          ],
          "name": "stdout"
        },
        {
          "output_type": "stream",
          "text": [
            "WARNING:tensorflow:From /usr/local/lib/python3.7/dist-packages/tensorflow_data_validation/utils/stats_util.py:247: tf_record_iterator (from tensorflow.python.lib.io.tf_record) is deprecated and will be removed in a future version.\n",
            "Instructions for updating:\n",
            "Use eager execution and: \n",
            "`tf.data.TFRecordDataset(path)`\n"
          ],
          "name": "stderr"
        },
        {
          "output_type": "display_data",
          "data": {
            "text/html": [
              "<iframe id='facets-iframe' width=\"100%\" height=\"500px\"></iframe>\n",
              "        <script>\n",
              "        facets_iframe = document.getElementById('facets-iframe');\n",
              "        facets_html = '<script src=\"https://cdnjs.cloudflare.com/ajax/libs/webcomponentsjs/1.3.3/webcomponents-lite.js\"><\\/script><link rel=\"import\" href=\"https://raw.githubusercontent.com/PAIR-code/facets/master/facets-dist/facets-jupyter.html\"><facets-overview proto-input=\"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\"></facets-overview>';\n",
              "        facets_iframe.srcdoc = facets_html;\n",
              "         facets_iframe.id = \"\";\n",
              "         setTimeout(() => {\n",
              "           facets_iframe.setAttribute('height', facets_iframe.contentWindow.document.body.offsetHeight + 'px')\n",
              "         }, 1500)\n",
              "         </script>"
            ],
            "text/plain": [
              "<IPython.core.display.HTML object>"
            ]
          },
          "metadata": {
            "tags": []
          }
        }
      ]
    },
    {
      "cell_type": "code",
      "metadata": {
        "colab": {
          "base_uri": "https://localhost:8080/"
        },
        "id": "Exf474pRXkJX",
        "outputId": "45f7e71c-8bee-4dab-8d4e-94df8f15ee22"
      },
      "source": [
        "fea = ['gender', 'car', 'reality', 'income_type', 'edu_type', 'family_type', 'house_type', 'occyp_type', 'credit']\n",
        "for i in fea:\n",
        "  print('\\n', i)\n",
        "  print(pd.value_counts(train[i]))"
      ],
      "execution_count": 13,
      "outputs": [
        {
          "output_type": "stream",
          "text": [
            "\n",
            " gender\n",
            "F    17697\n",
            "M    8760 \n",
            "Name: gender, dtype: int64\n",
            "\n",
            " car\n",
            "N    16410\n",
            "Y    10047\n",
            "Name: car, dtype: int64\n",
            "\n",
            " reality\n",
            "Y    17830\n",
            "N    8627 \n",
            "Name: reality, dtype: int64\n",
            "\n",
            " income_type\n",
            "Working                 13645\n",
            "Commercial associate    6202 \n",
            "Pensioner               4449 \n",
            "State servant           2154 \n",
            "Student                 7    \n",
            "Name: income_type, dtype: int64\n",
            "\n",
            " edu_type\n",
            "Secondary / secondary special    17995\n",
            "Higher education                 7162 \n",
            "Incomplete higher                1020 \n",
            "Lower secondary                  257  \n",
            "Academic degree                  23   \n",
            "Name: edu_type, dtype: int64\n",
            "\n",
            " family_type\n",
            "Married                 18196\n",
            "Single / not married    3496 \n",
            "Civil marriage          2123 \n",
            "Separated               1539 \n",
            "Widow                   1103 \n",
            "Name: family_type, dtype: int64\n",
            "\n",
            " house_type\n",
            "House / apartment      23653\n",
            "With parents           1257 \n",
            "Municipal apartment    818  \n",
            "Rented apartment       429  \n",
            "Office apartment       190  \n",
            "Co-op apartment        110  \n",
            "Name: house_type, dtype: int64\n",
            "\n",
            " occyp_type\n",
            "Laborers                 4512\n",
            "Core staff               2646\n",
            "Sales staff              2539\n",
            "Managers                 2167\n",
            "Drivers                  1575\n",
            "High skill tech staff    1040\n",
            "Accountants              902 \n",
            "Medicine staff           864 \n",
            "Cooking staff            457 \n",
            "Security staff           424 \n",
            "Cleaning staff           403 \n",
            "Private service staff    243 \n",
            "Low-skill Laborers       127 \n",
            "Waiters/barmen staff     124 \n",
            "Secretaries              97  \n",
            "Realty agents            63  \n",
            "HR staff                 62  \n",
            "IT staff                 41  \n",
            "Name: occyp_type, dtype: int64\n",
            "\n",
            " credit\n",
            "2.0    16968\n",
            "1.0    6267 \n",
            "0.0    3222 \n",
            "Name: credit, dtype: int64\n"
          ],
          "name": "stdout"
        }
      ]
    },
    {
      "cell_type": "code",
      "metadata": {
        "colab": {
          "base_uri": "https://localhost:8080/",
          "height": 1000
        },
        "id": "vP7OyvcuWJE_",
        "outputId": "73c6928c-ffbd-4c7d-9a70-2592d12bea10"
      },
      "source": [
        "schema = tfdv.infer_schema(statistics = train_stats)\n",
        "tfdv.display_schema(schema=schema)"
      ],
      "execution_count": 6,
      "outputs": [
        {
          "output_type": "display_data",
          "data": {
            "text/html": [
              "<div>\n",
              "<style scoped>\n",
              "    .dataframe tbody tr th:only-of-type {\n",
              "        vertical-align: middle;\n",
              "    }\n",
              "\n",
              "    .dataframe tbody tr th {\n",
              "        vertical-align: top;\n",
              "    }\n",
              "\n",
              "    .dataframe thead th {\n",
              "        text-align: right;\n",
              "    }\n",
              "</style>\n",
              "<table border=\"1\" class=\"dataframe\">\n",
              "  <thead>\n",
              "    <tr style=\"text-align: right;\">\n",
              "      <th></th>\n",
              "      <th>Type</th>\n",
              "      <th>Presence</th>\n",
              "      <th>Valency</th>\n",
              "      <th>Domain</th>\n",
              "    </tr>\n",
              "    <tr>\n",
              "      <th>Feature name</th>\n",
              "      <th></th>\n",
              "      <th></th>\n",
              "      <th></th>\n",
              "      <th></th>\n",
              "    </tr>\n",
              "  </thead>\n",
              "  <tbody>\n",
              "    <tr>\n",
              "      <th>'gender'</th>\n",
              "      <td>STRING</td>\n",
              "      <td>required</td>\n",
              "      <td></td>\n",
              "      <td>'gender'</td>\n",
              "    </tr>\n",
              "    <tr>\n",
              "      <th>'car'</th>\n",
              "      <td>STRING</td>\n",
              "      <td>required</td>\n",
              "      <td></td>\n",
              "      <td>'car'</td>\n",
              "    </tr>\n",
              "    <tr>\n",
              "      <th>'reality'</th>\n",
              "      <td>STRING</td>\n",
              "      <td>required</td>\n",
              "      <td></td>\n",
              "      <td>'reality'</td>\n",
              "    </tr>\n",
              "    <tr>\n",
              "      <th>'income_type'</th>\n",
              "      <td>STRING</td>\n",
              "      <td>required</td>\n",
              "      <td></td>\n",
              "      <td>'income_type'</td>\n",
              "    </tr>\n",
              "    <tr>\n",
              "      <th>'edu_type'</th>\n",
              "      <td>STRING</td>\n",
              "      <td>required</td>\n",
              "      <td></td>\n",
              "      <td>'edu_type'</td>\n",
              "    </tr>\n",
              "    <tr>\n",
              "      <th>'family_type'</th>\n",
              "      <td>STRING</td>\n",
              "      <td>required</td>\n",
              "      <td></td>\n",
              "      <td>'family_type'</td>\n",
              "    </tr>\n",
              "    <tr>\n",
              "      <th>'house_type'</th>\n",
              "      <td>STRING</td>\n",
              "      <td>required</td>\n",
              "      <td></td>\n",
              "      <td>'house_type'</td>\n",
              "    </tr>\n",
              "    <tr>\n",
              "      <th>'occyp_type'</th>\n",
              "      <td>STRING</td>\n",
              "      <td>optional</td>\n",
              "      <td>single</td>\n",
              "      <td>'occyp_type'</td>\n",
              "    </tr>\n",
              "    <tr>\n",
              "      <th>'index'</th>\n",
              "      <td>INT</td>\n",
              "      <td>required</td>\n",
              "      <td></td>\n",
              "      <td>-</td>\n",
              "    </tr>\n",
              "    <tr>\n",
              "      <th>'child_num'</th>\n",
              "      <td>INT</td>\n",
              "      <td>required</td>\n",
              "      <td></td>\n",
              "      <td>-</td>\n",
              "    </tr>\n",
              "    <tr>\n",
              "      <th>'income_total'</th>\n",
              "      <td>FLOAT</td>\n",
              "      <td>required</td>\n",
              "      <td></td>\n",
              "      <td>-</td>\n",
              "    </tr>\n",
              "    <tr>\n",
              "      <th>'DAYS_BIRTH'</th>\n",
              "      <td>INT</td>\n",
              "      <td>required</td>\n",
              "      <td></td>\n",
              "      <td>-</td>\n",
              "    </tr>\n",
              "    <tr>\n",
              "      <th>'DAYS_EMPLOYED'</th>\n",
              "      <td>INT</td>\n",
              "      <td>required</td>\n",
              "      <td></td>\n",
              "      <td>-</td>\n",
              "    </tr>\n",
              "    <tr>\n",
              "      <th>'FLAG_MOBIL'</th>\n",
              "      <td>INT</td>\n",
              "      <td>required</td>\n",
              "      <td></td>\n",
              "      <td>-</td>\n",
              "    </tr>\n",
              "    <tr>\n",
              "      <th>'work_phone'</th>\n",
              "      <td>INT</td>\n",
              "      <td>required</td>\n",
              "      <td></td>\n",
              "      <td>-</td>\n",
              "    </tr>\n",
              "    <tr>\n",
              "      <th>'phone'</th>\n",
              "      <td>INT</td>\n",
              "      <td>required</td>\n",
              "      <td></td>\n",
              "      <td>-</td>\n",
              "    </tr>\n",
              "    <tr>\n",
              "      <th>'email'</th>\n",
              "      <td>INT</td>\n",
              "      <td>required</td>\n",
              "      <td></td>\n",
              "      <td>-</td>\n",
              "    </tr>\n",
              "    <tr>\n",
              "      <th>'family_size'</th>\n",
              "      <td>FLOAT</td>\n",
              "      <td>required</td>\n",
              "      <td></td>\n",
              "      <td>-</td>\n",
              "    </tr>\n",
              "    <tr>\n",
              "      <th>'begin_month'</th>\n",
              "      <td>FLOAT</td>\n",
              "      <td>required</td>\n",
              "      <td></td>\n",
              "      <td>-</td>\n",
              "    </tr>\n",
              "    <tr>\n",
              "      <th>'credit'</th>\n",
              "      <td>FLOAT</td>\n",
              "      <td>required</td>\n",
              "      <td></td>\n",
              "      <td>-</td>\n",
              "    </tr>\n",
              "  </tbody>\n",
              "</table>\n",
              "</div>"
            ],
            "text/plain": [
              "                   Type  Presence Valency         Domain\n",
              "Feature name                                            \n",
              "'gender'         STRING  required               'gender'\n",
              "'car'            STRING  required                  'car'\n",
              "'reality'        STRING  required              'reality'\n",
              "'income_type'    STRING  required          'income_type'\n",
              "'edu_type'       STRING  required             'edu_type'\n",
              "'family_type'    STRING  required          'family_type'\n",
              "'house_type'     STRING  required           'house_type'\n",
              "'occyp_type'     STRING  optional  single   'occyp_type'\n",
              "'index'             INT  required                      -\n",
              "'child_num'         INT  required                      -\n",
              "'income_total'    FLOAT  required                      -\n",
              "'DAYS_BIRTH'        INT  required                      -\n",
              "'DAYS_EMPLOYED'     INT  required                      -\n",
              "'FLAG_MOBIL'        INT  required                      -\n",
              "'work_phone'        INT  required                      -\n",
              "'phone'             INT  required                      -\n",
              "'email'             INT  required                      -\n",
              "'family_size'     FLOAT  required                      -\n",
              "'begin_month'     FLOAT  required                      -\n",
              "'credit'          FLOAT  required                      -"
            ]
          },
          "metadata": {
            "tags": []
          }
        },
        {
          "output_type": "stream",
          "text": [
            "/usr/local/lib/python3.7/dist-packages/tensorflow_data_validation/utils/display_util.py:180: FutureWarning: Passing a negative integer is deprecated in version 1.0 and will not be supported in future version. Instead, use None to not limit the column width.\n",
            "  pd.set_option('max_colwidth', -1)\n"
          ],
          "name": "stderr"
        },
        {
          "output_type": "display_data",
          "data": {
            "text/html": [
              "<div>\n",
              "<style scoped>\n",
              "    .dataframe tbody tr th:only-of-type {\n",
              "        vertical-align: middle;\n",
              "    }\n",
              "\n",
              "    .dataframe tbody tr th {\n",
              "        vertical-align: top;\n",
              "    }\n",
              "\n",
              "    .dataframe thead th {\n",
              "        text-align: right;\n",
              "    }\n",
              "</style>\n",
              "<table border=\"1\" class=\"dataframe\">\n",
              "  <thead>\n",
              "    <tr style=\"text-align: right;\">\n",
              "      <th></th>\n",
              "      <th>Values</th>\n",
              "    </tr>\n",
              "    <tr>\n",
              "      <th>Domain</th>\n",
              "      <th></th>\n",
              "    </tr>\n",
              "  </thead>\n",
              "  <tbody>\n",
              "    <tr>\n",
              "      <th>'gender'</th>\n",
              "      <td>'F', 'M'</td>\n",
              "    </tr>\n",
              "    <tr>\n",
              "      <th>'car'</th>\n",
              "      <td>'N', 'Y'</td>\n",
              "    </tr>\n",
              "    <tr>\n",
              "      <th>'reality'</th>\n",
              "      <td>'N', 'Y'</td>\n",
              "    </tr>\n",
              "    <tr>\n",
              "      <th>'income_type'</th>\n",
              "      <td>'Commercial associate', 'Pensioner', 'State servant', 'Student', 'Working'</td>\n",
              "    </tr>\n",
              "    <tr>\n",
              "      <th>'edu_type'</th>\n",
              "      <td>'Academic degree', 'Higher education', 'Incomplete higher', 'Lower secondary', 'Secondary / secondary special'</td>\n",
              "    </tr>\n",
              "    <tr>\n",
              "      <th>'family_type'</th>\n",
              "      <td>'Civil marriage', 'Married', 'Separated', 'Single / not married', 'Widow'</td>\n",
              "    </tr>\n",
              "    <tr>\n",
              "      <th>'house_type'</th>\n",
              "      <td>'Co-op apartment', 'House / apartment', 'Municipal apartment', 'Office apartment', 'Rented apartment', 'With parents'</td>\n",
              "    </tr>\n",
              "    <tr>\n",
              "      <th>'occyp_type'</th>\n",
              "      <td>'Accountants', 'Cleaning staff', 'Cooking staff', 'Core staff', 'Drivers', 'HR staff', 'High skill tech staff', 'IT staff', 'Laborers', 'Low-skill Laborers', 'Managers', 'Medicine staff', 'Private service staff', 'Realty agents', 'Sales staff', 'Secretaries', 'Security staff', 'Waiters/barmen staff'</td>\n",
              "    </tr>\n",
              "  </tbody>\n",
              "</table>\n",
              "</div>"
            ],
            "text/plain": [
              "                                                                                                                                                                                                                                                                                                                     Values\n",
              "Domain                                                                                                                                                                                                                                                                                                                     \n",
              "'gender'       'F', 'M'                                                                                                                                                                                                                                                                                                    \n",
              "'car'          'N', 'Y'                                                                                                                                                                                                                                                                                                    \n",
              "'reality'      'N', 'Y'                                                                                                                                                                                                                                                                                                    \n",
              "'income_type'  'Commercial associate', 'Pensioner', 'State servant', 'Student', 'Working'                                                                                                                                                                                                                                  \n",
              "'edu_type'     'Academic degree', 'Higher education', 'Incomplete higher', 'Lower secondary', 'Secondary / secondary special'                                                                                                                                                                                              \n",
              "'family_type'  'Civil marriage', 'Married', 'Separated', 'Single / not married', 'Widow'                                                                                                                                                                                                                                   \n",
              "'house_type'   'Co-op apartment', 'House / apartment', 'Municipal apartment', 'Office apartment', 'Rented apartment', 'With parents'                                                                                                                                                                                       \n",
              "'occyp_type'   'Accountants', 'Cleaning staff', 'Cooking staff', 'Core staff', 'Drivers', 'HR staff', 'High skill tech staff', 'IT staff', 'Laborers', 'Low-skill Laborers', 'Managers', 'Medicine staff', 'Private service staff', 'Realty agents', 'Sales staff', 'Secretaries', 'Security staff', 'Waiters/barmen staff'"
            ]
          },
          "metadata": {
            "tags": []
          }
        }
      ]
    },
    {
      "cell_type": "code",
      "metadata": {
        "id": "iv523mydXEnW"
      },
      "source": [
        ""
      ],
      "execution_count": null,
      "outputs": []
    }
  ]
}